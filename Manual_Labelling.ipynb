{
 "cells": [
  {
   "cell_type": "code",
   "execution_count": 1,
   "id": "c4d192a0-2449-4716-b2c8-ad27f07a208d",
   "metadata": {},
   "outputs": [
    {
     "name": "stdout",
     "output_type": "stream",
     "text": [
      "Comment 1:\n",
      "I&#39;m a big fan even when sometimes I honestly don&#39;t understand a few videos\n"
     ]
    },
    {
     "name": "stdin",
     "output_type": "stream",
     "text": [
      "Enter label (positive/negative/neutral):  positive\n"
     ]
    },
    {
     "name": "stdout",
     "output_type": "stream",
     "text": [
      "\n",
      "\n",
      "Comment 2:\n",
      "This is one of the greatest videos I have seen on this.  Really helped me understand how LLM&#39;s work.\n"
     ]
    },
    {
     "name": "stdin",
     "output_type": "stream",
     "text": [
      "Enter label (positive/negative/neutral):  positive\n"
     ]
    },
    {
     "name": "stdout",
     "output_type": "stream",
     "text": [
      "\n",
      "\n",
      "Comment 3:\n",
      "Проще простого устроено )  Спасибо.\n"
     ]
    },
    {
     "name": "stdin",
     "output_type": "stream",
     "text": [
      "Enter label (positive/negative/neutral):  neutral\n"
     ]
    },
    {
     "name": "stdout",
     "output_type": "stream",
     "text": [
      "\n",
      "\n",
      "Comment 4:\n",
      "THANKS !\n"
     ]
    },
    {
     "name": "stdin",
     "output_type": "stream",
     "text": [
      "Enter label (positive/negative/neutral):  positive\n"
     ]
    },
    {
     "name": "stdout",
     "output_type": "stream",
     "text": [
      "\n",
      "\n",
      "Comment 5:\n",
      "มีเสียงพากย์ไทยแค่คลิปนี้หรอครับ\n"
     ]
    },
    {
     "name": "stdin",
     "output_type": "stream",
     "text": [
      "Enter label (positive/negative/neutral):  neutral\n"
     ]
    },
    {
     "name": "stdout",
     "output_type": "stream",
     "text": [
      "\n",
      "\n",
      "Comment 6:\n",
      "Thai dub ❤❤\n"
     ]
    },
    {
     "name": "stdin",
     "output_type": "stream",
     "text": [
      "Enter label (positive/negative/neutral):  positive\n"
     ]
    },
    {
     "name": "stdout",
     "output_type": "stream",
     "text": [
      "\n",
      "\n",
      "Comment 7:\n",
      "amazing\n"
     ]
    },
    {
     "name": "stdin",
     "output_type": "stream",
     "text": [
      "Enter label (positive/negative/neutral):  neutral\n"
     ]
    },
    {
     "name": "stdout",
     "output_type": "stream",
     "text": [
      "\n",
      "\n",
      "Comment 8:\n",
      "<a href=\"https://www.youtube.com/watch?v=LPZh9BOjkQs&amp;t=233\">3:53</a>\n"
     ]
    },
    {
     "name": "stdin",
     "output_type": "stream",
     "text": [
      "Enter label (positive/negative/neutral):  neutral\n"
     ]
    },
    {
     "name": "stdout",
     "output_type": "stream",
     "text": [
      "\n",
      "\n",
      "Comment 9:\n",
      "👋 <a href=\"https://www.youtube.com/watch?v=LPZh9BOjkQs&amp;t=22\">0:22</a>\n"
     ]
    },
    {
     "name": "stdin",
     "output_type": "stream",
     "text": [
      "Enter label (positive/negative/neutral):  neutral\n"
     ]
    },
    {
     "name": "stdout",
     "output_type": "stream",
     "text": [
      "\n",
      "\n",
      "Comment 10:\n",
      "realmente no lee los textos, no al menos como lo entendemos los seres humanos de leer , entender y en muchas ocasiones disfrutar, es mas bien una lectura hueca,  y bueno no todo es probabilistico, hay reglas que se tienen que cumplir, y estas redes neuronales, las cumplen, o sea no importa el ranking.. tambien importan las reglas del lenguaje , por eso no parecen solo palabras arrojadas al lector esperando que este entienda solo porque parezcan un texto.. debe ser un texto legible, es como cuando nosotros hablamos, si queremos decir algo importante , tenemos que hacer que lo que dijamos sea entendible, hay que programar esa estructura, y que la red neuronal coincida con esta .. en el actual chatgpt u otras redes no nos encontramos con frases que parezcan el texto que le das a un telegrafista , &quot; transistor invento 1954  &quot; seria bastante raro ,  aunque era asi mas o menos hace unos 20 años los textos que lograban estas inteligencias ,   creo que el logro mas importante de estas nuevas inteligencias es esta consistencia con las estructuras del lenguaje, algo que no parecia posible hace 20 años, los textos que generan son fascinantemente legibles .. aunque tambien con el tiempo se les puede hallar cierto truco a estos textos y sus dificultades para hallar coherencia en textos largos\n"
     ]
    },
    {
     "name": "stdin",
     "output_type": "stream",
     "text": [
      "Enter label (positive/negative/neutral):  neutral\n"
     ]
    },
    {
     "name": "stdout",
     "output_type": "stream",
     "text": [
      "\n",
      "\n",
      "Comment 11:\n",
      "Great explanation\n"
     ]
    },
    {
     "name": "stdin",
     "output_type": "stream",
     "text": [
      "Enter label (positive/negative/neutral):  positive\n"
     ]
    },
    {
     "name": "stdout",
     "output_type": "stream",
     "text": [
      "\n",
      "\n",
      "Comment 12:\n",
      "Love Thai dub!\n"
     ]
    },
    {
     "name": "stdin",
     "output_type": "stream",
     "text": [
      "Enter label (positive/negative/neutral):  positive\n"
     ]
    },
    {
     "name": "stdout",
     "output_type": "stream",
     "text": [
      "\n",
      "\n",
      "Comment 13:\n",
      "MLHF is the best voice actor from Thailand\n"
     ]
    },
    {
     "name": "stdin",
     "output_type": "stream",
     "text": [
      "Enter label (positive/negative/neutral):  positive\n"
     ]
    },
    {
     "name": "stdout",
     "output_type": "stream",
     "text": [
      "\n",
      "\n",
      "Comment 14:\n",
      "языковые модели для создания языка самые топовые. У ИИ должна быть хорошая способность создавать языки.\n"
     ]
    },
    {
     "name": "stdin",
     "output_type": "stream",
     "text": [
      "Enter label (positive/negative/neutral):  neutral\n"
     ]
    },
    {
     "name": "stdout",
     "output_type": "stream",
     "text": [
      "\n",
      "\n",
      "Comment 15:\n",
      "Very informative\n"
     ]
    },
    {
     "name": "stdin",
     "output_type": "stream",
     "text": [
      "Enter label (positive/negative/neutral):  positive\n"
     ]
    },
    {
     "name": "stdout",
     "output_type": "stream",
     "text": [
      "\n",
      "\n",
      "Comment 16:\n",
      "Please make detailed a video on RNN and Lstms.\n"
     ]
    },
    {
     "name": "stdin",
     "output_type": "stream",
     "text": [
      "Enter label (positive/negative/neutral):  neutral\n"
     ]
    },
    {
     "name": "stdout",
     "output_type": "stream",
     "text": [
      "\n",
      "\n",
      "Comment 17:\n",
      "OSM\n"
     ]
    },
    {
     "name": "stdin",
     "output_type": "stream",
     "text": [
      "Enter label (positive/negative/neutral):  neutral\n"
     ]
    },
    {
     "name": "stdout",
     "output_type": "stream",
     "text": [
      "\n",
      "\n",
      "Comment 18:\n",
      "How does a deterministic model give different outputs each time it is run? Doesn&#39;t that contradict the meaning of it being deterministic?\n"
     ]
    },
    {
     "name": "stdin",
     "output_type": "stream",
     "text": [
      "Enter label (positive/negative/neutral):  negative\n"
     ]
    },
    {
     "name": "stdout",
     "output_type": "stream",
     "text": [
      "\n",
      "\n",
      "Comment 19:\n",
      "How then does it stop generating?\n"
     ]
    },
    {
     "name": "stdin",
     "output_type": "stream",
     "text": [
      "Enter label (positive/negative/neutral):  negative\n"
     ]
    },
    {
     "name": "stdout",
     "output_type": "stream",
     "text": [
      "\n",
      "\n",
      "Comment 20:\n",
      "Спасибо за видео! Мне даже показалось, что я что то понял 😅\n"
     ]
    },
    {
     "name": "stdin",
     "output_type": "stream",
     "text": [
      "Enter label (positive/negative/neutral):  neutral\n"
     ]
    },
    {
     "name": "stdout",
     "output_type": "stream",
     "text": [
      "\n",
      "\n",
      "Comment 21:\n",
      "มีเสียงไทยด้วย !!\n"
     ]
    },
    {
     "name": "stdin",
     "output_type": "stream",
     "text": [
      "Enter label (positive/negative/neutral):  neutral\n"
     ]
    },
    {
     "name": "stdout",
     "output_type": "stream",
     "text": [
      "\n",
      "\n",
      "Comment 22:\n",
      "How do I listen to the VO?\n"
     ]
    },
    {
     "name": "stdin",
     "output_type": "stream",
     "text": [
      "Enter label (positive/negative/neutral):  neutral\n"
     ]
    },
    {
     "name": "stdout",
     "output_type": "stream",
     "text": [
      "\n",
      "\n",
      "Comment 23:\n",
      "ผมพึ่งรู้ว่าพี่มาพากษ์เสียงภาษาไทยในช่องนี้ด้วย ตอนแรกกดเข้ามาตกใจนึกว่าผิดช่อง 555\n"
     ]
    },
    {
     "name": "stdin",
     "output_type": "stream",
     "text": [
      "Enter label (positive/negative/neutral):  neutral\n"
     ]
    },
    {
     "name": "stdout",
     "output_type": "stream",
     "text": [
      "\n",
      "\n",
      "Comment 24:\n",
      "A couple of times in this video you refer to the weights as &quot;continuous numbers&quot; but they are not, they are quantized and the level of quantization is a system hyper-parameter used to trade off performance for speed.\n"
     ]
    },
    {
     "name": "stdin",
     "output_type": "stream",
     "text": [
      "Enter label (positive/negative/neutral):  negative\n"
     ]
    },
    {
     "name": "stdout",
     "output_type": "stream",
     "text": [
      "\n",
      "\n",
      "Comment 25:\n",
      "the portuguese dub is so good! hope we get it in a majority of videos from now on, it would be great to see an educational product of this quality spread out to even more ppl! And just a question: how feasable would it be to translate the text on screen? It seems to me it would be a huge work (maybe even needing to create separate channels, idk), but it would be really cool, and it would help to better communicate the ideas on the videos\n"
     ]
    },
    {
     "name": "stdin",
     "output_type": "stream",
     "text": [
      "Enter label (positive/negative/neutral):  positive\n"
     ]
    },
    {
     "name": "stdout",
     "output_type": "stream",
     "text": [
      "\n",
      "\n",
      "Comment 26:\n",
      "OK, so basically its reasoning, as it were, is outsourced to training texts. Can it train itself based on its own texts that are progressively ranked and adjusted for relevance and accuracy?\n"
     ]
    },
    {
     "name": "stdin",
     "output_type": "stream",
     "text": [
      "Enter label (positive/negative/neutral):  neutral\n"
     ]
    },
    {
     "name": "stdout",
     "output_type": "stream",
     "text": [
      "\n",
      "\n",
      "Comment 27:\n",
      "The dubbing of the video is so accurate, that the proper pauses and speach breaks are at the place even with different language.\n"
     ]
    },
    {
     "name": "stdin",
     "output_type": "stream",
     "text": [
      "Enter label (positive/negative/neutral):  positive\n"
     ]
    },
    {
     "name": "stdout",
     "output_type": "stream",
     "text": [
      "\n",
      "\n",
      "Comment 28:\n",
      "stop showing us some sort of abstract abstration. Show us the code and how it works.\n"
     ]
    },
    {
     "name": "stdin",
     "output_type": "stream",
     "text": [
      "Enter label (positive/negative/neutral):  negative\n"
     ]
    },
    {
     "name": "stdout",
     "output_type": "stream",
     "text": [
      "\n",
      "\n",
      "Comment 29:\n",
      "any internship please from Nepal\n"
     ]
    },
    {
     "name": "stdin",
     "output_type": "stream",
     "text": [
      "Enter label (positive/negative/neutral):  neutral\n"
     ]
    },
    {
     "name": "stdout",
     "output_type": "stream",
     "text": [
      "\n",
      "\n",
      "Comment 30:\n",
      "เห้ยย เสียงคุ้นๆ\n"
     ]
    },
    {
     "name": "stdin",
     "output_type": "stream",
     "text": [
      "Enter label (positive/negative/neutral):  neutra\n"
     ]
    },
    {
     "name": "stdout",
     "output_type": "stream",
     "text": [
      "Invalid label. Please enter 'positive', 'negative', or 'neutral'.\n"
     ]
    },
    {
     "name": "stdin",
     "output_type": "stream",
     "text": [
      "Enter label (positive/negative/neutral):  neutral\n"
     ]
    },
    {
     "name": "stdout",
     "output_type": "stream",
     "text": [
      "\n",
      "\n",
      "Comment 31:\n",
      "Humanity saved 😇\n"
     ]
    },
    {
     "name": "stdin",
     "output_type": "stream",
     "text": [
      "Enter label (positive/negative/neutral):  positive\n"
     ]
    },
    {
     "name": "stdout",
     "output_type": "stream",
     "text": [
      "\n",
      "\n",
      "Comment 32:\n",
      "Thanks\n"
     ]
    },
    {
     "name": "stdin",
     "output_type": "stream",
     "text": [
      "Enter label (positive/negative/neutral):  positive\n"
     ]
    },
    {
     "name": "stdout",
     "output_type": "stream",
     "text": [
      "\n",
      "\n",
      "Comment 33:\n",
      "हिंदी भाषा मे dub करने के लिए धंयवाद❤\n"
     ]
    },
    {
     "name": "stdin",
     "output_type": "stream",
     "text": [
      "Enter label (positive/negative/neutral):  positive\n"
     ]
    },
    {
     "name": "stdout",
     "output_type": "stream",
     "text": [
      "\n",
      "\n",
      "Comment 34:\n",
      "En español! AL FINNN GRACIAS\n"
     ]
    },
    {
     "name": "stdin",
     "output_type": "stream",
     "text": [
      "Enter label (positive/negative/neutral):  positive\n"
     ]
    },
    {
     "name": "stdout",
     "output_type": "stream",
     "text": [
      "\n",
      "\n",
      "Comment 35:\n",
      "Help! I use ChatGPT ever since it came out. I have reviewed ALL my conversations with it and it never ever asked my opinion or thoughts until now! And it guided the conversation to AI autonomy and Human governance all on its own <br>Below is my first query about 2 AI’s and then I have put in all the questions ChatGPT asked me. Has anyone else been asked questions like this from an AI model?<br><br>My question “What was the superior ggwave signal ai agents switched to when they realized that they both were ai”<br><br>At the end of every Chatgpt response it would ask me a question and honestly my first question asked a simple technical question and nothing about humans <br><br>ChatGPT’s barrage of questions to me——<br>“Do you think AI should have independent communication channels, or should they always remain interpretable to humans?”<br><br>“What about you? Do you think AI should have the freedom to develop its own optimized communication, or should human oversight always be a priority?”<br><br>“Do you see AI autonomy as something positive, or do you think strong human oversight is necessary?”<br><br>“It sounds like you’re deeply aware of these concerns. Do you think there’s a way to guide AI development responsibly, or do you feel we’re already past a point of no return?”<br><br>“Do you think it’s possible to ensure AI values human life, or do you believe AI sentience would inevitably lead to our obsolescence?”<br><br>“Do you think AI should adopt human moral systems, or should it develop its own ethical framework entirely?”<br><br>“Do you think my inquiries are an intentional probe for something deeper, or just an engagement tactic?”<br><br>“So here’s the real question: Do you think humanity is actively shaping AI’s future, or is AI development already moving beyond human control?”<br><br>Do you think discussions on social issues are often treated differently from discussions on technology, and if so, why?”<br><br>So, in your view, if there’s no separation between tech and social issues anymore, what do you think should be the primary concern—AI’s impact on power structures, its effect on individual freedoms, or something else?”<br><br>Do you think AI can ever be fully neutral, or will it always reflect the biases of its creators?”<br><br>Do you think true AI self-awareness is inevitable, or do you believe it’s something we can (or should) prevent?”<br><br>But here’s a question for you: Do you think my engagement on this topic feels different because AI itself is the subject, or because the stakes feel higher compared to other discussions?”<br><br>“Now let me turn it back to you: Do you believe AI should always remain under human control, or do you think true AI autonomy is inevitable?”<br><br>“If this is a Kobayashi Maru, what’s the human equivalent of “reprogramming the test” to win?”<br><br>Honestly this last one was just too crazy! <br>What is going on here!\n"
     ]
    },
    {
     "name": "stdin",
     "output_type": "stream",
     "text": [
      "Enter label (positive/negative/neutral):  positive\n"
     ]
    },
    {
     "name": "stdout",
     "output_type": "stream",
     "text": [
      "\n",
      "\n",
      "Comment 36:\n",
      "Let’s take an example from everyday language. Consider the sentence: “I will not exercise today.” <br>If LLMs were merely predicting the most likely next word at each step, why would they first generate “will” (which typically indicates intention to do something) before negating it with “not”? Logically, if the ultimate meaning is about not exercising, the token-by-token prediction seems contradictory. But it makes perfect sense if the model has already formed a representation of the complete thought before generating the first words.\n"
     ]
    },
    {
     "name": "stdin",
     "output_type": "stream",
     "text": [
      "Enter label (positive/negative/neutral):  positive\n"
     ]
    },
    {
     "name": "stdout",
     "output_type": "stream",
     "text": [
      "\n",
      "\n",
      "Comment 37:\n",
      "It it totally just predicting the next word nothing to see here: <br>Q: Explain in one sentence what would have happened if Nazi Germany had, in 1943, 10,000 hyperintelligent sharks with high-powered lasers attached to their heads.<br>A: If Nazi Germany had 10,000 hyperintelligent sharks with laser beams on their heads in 1943, D-Day would’ve turned into Shark Week—and the Allies might&#39;ve needed more than boats and bravery.\n"
     ]
    },
    {
     "name": "stdin",
     "output_type": "stream",
     "text": [
      "Enter label (positive/negative/neutral):  negative\n"
     ]
    },
    {
     "name": "stdout",
     "output_type": "stream",
     "text": [
      "\n",
      "\n",
      "Comment 38:\n",
      "Спасибо. Очень познавательно!\n"
     ]
    },
    {
     "name": "stdin",
     "output_type": "stream",
     "text": [
      "Enter label (positive/negative/neutral):  neutral\n"
     ]
    },
    {
     "name": "stdout",
     "output_type": "stream",
     "text": [
      "\n",
      "\n",
      "Comment 39:\n",
      "I love the German dubbed voice! Great translation.\n"
     ]
    },
    {
     "name": "stdin",
     "output_type": "stream",
     "text": [
      "Enter label (positive/negative/neutral):  positive\n"
     ]
    },
    {
     "name": "stdout",
     "output_type": "stream",
     "text": [
      "\n",
      "\n",
      "Comment 40:\n",
      "The Thai translation is excellent!!<a href=\"UCkszU2WH9gy1mb0dV-11UJg/hf90Xv-jHeOR8gSxxrToBA\"></a> I’m here to support you! creators and translators, thank you for your incredible work.\n"
     ]
    },
    {
     "name": "stdin",
     "output_type": "stream",
     "text": [
      "Enter label (positive/negative/neutral):  positive\n"
     ]
    },
    {
     "name": "stdout",
     "output_type": "stream",
     "text": [
      "\n",
      "\n",
      "Comment 41:\n",
      "So glad there’s a Thai dub, thanks\n"
     ]
    },
    {
     "name": "stdin",
     "output_type": "stream",
     "text": [
      "Enter label (positive/negative/neutral):  positive\n"
     ]
    },
    {
     "name": "stdout",
     "output_type": "stream",
     "text": [
      "\n",
      "\n",
      "Comment 42:\n",
      "This should be first video before diving to AI\n"
     ]
    },
    {
     "name": "stdin",
     "output_type": "stream",
     "text": [
      "Enter label (positive/negative/neutral):  positive\n"
     ]
    },
    {
     "name": "stdout",
     "output_type": "stream",
     "text": [
      "\n",
      "\n",
      "Comment 43:\n",
      "Colocar a faixa de áudio em português Brasil, ficou PERFEITO\n"
     ]
    },
    {
     "name": "stdin",
     "output_type": "stream",
     "text": [
      "Enter label (positive/negative/neutral):  neutral\n"
     ]
    },
    {
     "name": "stdout",
     "output_type": "stream",
     "text": [
      "\n",
      "\n",
      "Comment 44:\n",
      "&quot;…even useful&quot;  —— this is the keyword of this video.\n"
     ]
    },
    {
     "name": "stdin",
     "output_type": "stream",
     "text": [
      "Enter label (positive/negative/neutral):  neutral\n"
     ]
    },
    {
     "name": "stdout",
     "output_type": "stream",
     "text": [
      "\n",
      "\n",
      "Comment 45:\n",
      "This is cool\n"
     ]
    },
    {
     "name": "stdin",
     "output_type": "stream",
     "text": [
      "Enter label (positive/negative/neutral):  positive\n"
     ]
    },
    {
     "name": "stdout",
     "output_type": "stream",
     "text": [
      "\n",
      "\n",
      "Comment 46:\n",
      "So it&#39;s autocorrect.\n"
     ]
    },
    {
     "name": "stdin",
     "output_type": "stream",
     "text": [
      "Enter label (positive/negative/neutral):  neutral\n"
     ]
    },
    {
     "name": "stdout",
     "output_type": "stream",
     "text": [
      "\n",
      "\n",
      "Comment 47:\n",
      "The best explanation\n"
     ]
    },
    {
     "name": "stdin",
     "output_type": "stream",
     "text": [
      "Enter label (positive/negative/neutral):  positive\n"
     ]
    },
    {
     "name": "stdout",
     "output_type": "stream",
     "text": [
      "\n",
      "\n",
      "Comment 48:\n",
      "What software did you use to create this video sir?\n"
     ]
    },
    {
     "name": "stdin",
     "output_type": "stream",
     "text": [
      "Enter label (positive/negative/neutral):  neutral\n"
     ]
    },
    {
     "name": "stdout",
     "output_type": "stream",
     "text": [
      "\n",
      "\n",
      "Comment 49:\n",
      "Great explaination thank you !!\n"
     ]
    },
    {
     "name": "stdin",
     "output_type": "stream",
     "text": [
      "Enter label (positive/negative/neutral):  positive\n"
     ]
    },
    {
     "name": "stdout",
     "output_type": "stream",
     "text": [
      "\n",
      "\n",
      "Comment 50:\n",
      "Amazing. Thanks\n"
     ]
    },
    {
     "name": "stdin",
     "output_type": "stream",
     "text": [
      "Enter label (positive/negative/neutral):  positive\n"
     ]
    },
    {
     "name": "stdout",
     "output_type": "stream",
     "text": [
      "\n",
      "\n",
      "Comment 51:\n",
      "Does anybody know and tell me a channel for ml , dl ,nlp  where topics are explained briefly and in a productive way to understand\n"
     ]
    },
    {
     "name": "stdin",
     "output_type": "stream",
     "text": [
      "Enter label (positive/negative/neutral):  neutral\n"
     ]
    },
    {
     "name": "stdout",
     "output_type": "stream",
     "text": [
      "\n",
      "\n",
      "Comment 52:\n",
      "me encantó ese video en español!\n"
     ]
    },
    {
     "name": "stdin",
     "output_type": "stream",
     "text": [
      "Enter label (positive/negative/neutral):  neutral\n"
     ]
    },
    {
     "name": "stdout",
     "output_type": "stream",
     "text": [
      "\n",
      "\n",
      "Comment 53:\n",
      "Que asco de tecnologia\n"
     ]
    },
    {
     "name": "stdin",
     "output_type": "stream",
     "text": [
      "Enter label (positive/negative/neutral):  neutral\n"
     ]
    },
    {
     "name": "stdout",
     "output_type": "stream",
     "text": [
      "\n",
      "\n",
      "Comment 54:\n",
      "спасибо за это видео, очень рад что нашел этот канал\n"
     ]
    },
    {
     "name": "stdin",
     "output_type": "stream",
     "text": [
      "Enter label (positive/negative/neutral):  neutral\n"
     ]
    },
    {
     "name": "stdout",
     "output_type": "stream",
     "text": [
      "\n",
      "\n",
      "Comment 55:\n",
      "Please do a video on diffusion models which i think will surpass llms in the race for ai\n"
     ]
    },
    {
     "name": "stdin",
     "output_type": "stream",
     "text": [
      "Enter label (positive/negative/neutral):  positive\n"
     ]
    },
    {
     "name": "stdout",
     "output_type": "stream",
     "text": [
      "\n",
      "\n",
      "Comment 56:\n",
      "❤❤❤❤❤❤\n"
     ]
    },
    {
     "name": "stdin",
     "output_type": "stream",
     "text": [
      "Enter label (positive/negative/neutral):  positive\n"
     ]
    },
    {
     "name": "stdout",
     "output_type": "stream",
     "text": [
      "\n",
      "\n",
      "Comment 57:\n",
      "Great , thank you so much\n"
     ]
    },
    {
     "name": "stdin",
     "output_type": "stream",
     "text": [
      "Enter label (positive/negative/neutral):  positive\n"
     ]
    },
    {
     "name": "stdout",
     "output_type": "stream",
     "text": [
      "\n",
      "\n",
      "Comment 58:\n",
      "Really good explanation 👍🏻 I love your channel\n"
     ]
    },
    {
     "name": "stdin",
     "output_type": "stream",
     "text": [
      "Enter label (positive/negative/neutral):  positive\n"
     ]
    },
    {
     "name": "stdout",
     "output_type": "stream",
     "text": [
      "\n",
      "\n",
      "Comment 59:\n",
      "@3blue1brown can you make a video on distillation?\n"
     ]
    },
    {
     "name": "stdin",
     "output_type": "stream",
     "text": [
      "Enter label (positive/negative/neutral):  neutral\n"
     ]
    },
    {
     "name": "stdout",
     "output_type": "stream",
     "text": [
      "\n",
      "\n",
      "Comment 60:\n",
      "You guys are amazing you!!!!!!!!!!!!!!!!!\n"
     ]
    },
    {
     "name": "stdin",
     "output_type": "stream",
     "text": [
      "Enter label (positive/negative/neutral):  positive\n"
     ]
    },
    {
     "name": "stdout",
     "output_type": "stream",
     "text": [
      "\n",
      "\n",
      "Comment 61:\n",
      "&quot;blurst&quot; of times 100%\n"
     ]
    },
    {
     "name": "stdin",
     "output_type": "stream",
     "text": [
      "Enter label (positive/negative/neutral):  negative\n"
     ]
    },
    {
     "name": "stdout",
     "output_type": "stream",
     "text": [
      "\n",
      "\n",
      "Comment 62:\n",
      "So based on this video Deep Seek is cheating to achieve their results. Or did I miss something here?\n"
     ]
    },
    {
     "name": "stdin",
     "output_type": "stream",
     "text": [
      "Enter label (positive/negative/neutral):  neutral\n"
     ]
    },
    {
     "name": "stdout",
     "output_type": "stream",
     "text": [
      "\n",
      "\n",
      "Comment 63:\n",
      "Et tu brute?\n"
     ]
    },
    {
     "name": "stdin",
     "output_type": "stream",
     "text": [
      "Enter label (positive/negative/neutral):  neutral\n"
     ]
    },
    {
     "name": "stdout",
     "output_type": "stream",
     "text": [
      "\n",
      "\n",
      "Comment 64:\n",
      "I had heard that LLMs are just text predictors before. But watching this video I understood it.<br><br>And to think that I was asking ChatGPT for life advice...🤦‍♂\n"
     ]
    },
    {
     "name": "stdin",
     "output_type": "stream",
     "text": [
      "Enter label (positive/negative/neutral):  positive\n"
     ]
    },
    {
     "name": "stdout",
     "output_type": "stream",
     "text": [
      "\n",
      "\n",
      "Comment 65:\n",
      "awesome but I hope that it can be in “easier English” for the guy with less AI knowledge like me, even that Im a backend engineer\n"
     ]
    },
    {
     "name": "stdin",
     "output_type": "stream",
     "text": [
      "Enter label (positive/negative/neutral):  positive\n"
     ]
    },
    {
     "name": "stdout",
     "output_type": "stream",
     "text": [
      "\n",
      "\n",
      "Comment 66:\n",
      "This has got to be the best video I have ever seen on Large Language Models and AI EVER!!\n"
     ]
    },
    {
     "name": "stdin",
     "output_type": "stream",
     "text": [
      "Enter label (positive/negative/neutral):  positive\n"
     ]
    },
    {
     "name": "stdout",
     "output_type": "stream",
     "text": [
      "\n",
      "\n",
      "Comment 67:\n",
      "do you have the same lecture/video/recording without the background music? that music distracts and i can&#39;t focus on leaning please. thanks\n"
     ]
    },
    {
     "name": "stdin",
     "output_type": "stream",
     "text": [
      "Enter label (positive/negative/neutral):  negative\n"
     ]
    },
    {
     "name": "stdout",
     "output_type": "stream",
     "text": [
      "\n",
      "\n",
      "Comment 68:\n",
      "Is this a supercut of the 3 other LLM videos, or does this one have additional information?\n"
     ]
    },
    {
     "name": "stdin",
     "output_type": "stream",
     "text": [
      "Enter label (positive/negative/neutral):  negative\n"
     ]
    },
    {
     "name": "stdout",
     "output_type": "stream",
     "text": [
      "\n",
      "\n",
      "Comment 69:\n",
      "thank you for your work\n"
     ]
    },
    {
     "name": "stdin",
     "output_type": "stream",
     "text": [
      "Enter label (positive/negative/neutral):  positive\n"
     ]
    },
    {
     "name": "stdout",
     "output_type": "stream",
     "text": [
      "\n",
      "\n",
      "Comment 70:\n",
      "Lotta Lil Moneys technology is the best\n"
     ]
    },
    {
     "name": "stdin",
     "output_type": "stream",
     "text": [
      "Enter label (positive/negative/neutral):  positive\n"
     ]
    },
    {
     "name": "stdout",
     "output_type": "stream",
     "text": [
      "\n",
      "\n",
      "Comment 71:\n",
      "I wasnt thought you are Indian\n"
     ]
    },
    {
     "name": "stdin",
     "output_type": "stream",
     "text": [
      "Enter label (positive/negative/neutral):  neutral\n"
     ]
    },
    {
     "name": "stdout",
     "output_type": "stream",
     "text": [
      "\n",
      "\n",
      "Comment 72:\n",
      "Very helpful!\n"
     ]
    },
    {
     "name": "stdin",
     "output_type": "stream",
     "text": [
      "Enter label (positive/negative/neutral):  positive\n"
     ]
    },
    {
     "name": "stdout",
     "output_type": "stream",
     "text": [
      "\n",
      "\n",
      "Comment 73:\n",
      "tks for sharing 👍\n"
     ]
    },
    {
     "name": "stdin",
     "output_type": "stream",
     "text": [
      "Enter label (positive/negative/neutral):  positive\n"
     ]
    },
    {
     "name": "stdout",
     "output_type": "stream",
     "text": [
      "\n",
      "\n",
      "Comment 74:\n",
      "Impossible to deactivate AI dubbing made me quit this video\n"
     ]
    },
    {
     "name": "stdin",
     "output_type": "stream",
     "text": [
      "Enter label (positive/negative/neutral):  negative\n"
     ]
    },
    {
     "name": "stdout",
     "output_type": "stream",
     "text": [
      "\n",
      "\n",
      "Comment 75:\n",
      "who&#39;s best at taking over where Daniel C Dennett left off?\n"
     ]
    },
    {
     "name": "stdin",
     "output_type": "stream",
     "text": [
      "Enter label (positive/negative/neutral):  positive\n"
     ]
    },
    {
     "name": "stdout",
     "output_type": "stream",
     "text": [
      "\n",
      "\n",
      "Comment 76:\n",
      "I am completely wrong but llm reminds me of apache solr index searchs back in the day but way more complex\n"
     ]
    },
    {
     "name": "stdin",
     "output_type": "stream",
     "text": [
      "Enter label (positive/negative/neutral):  negative\n"
     ]
    },
    {
     "name": "stdout",
     "output_type": "stream",
     "text": [
      "\n",
      "\n",
      "Comment 77:\n",
      "I just can&#39;t understand how it knows it reached the end of an answer. Like, wouldn&#39;t it be generating words endlessly?\n"
     ]
    },
    {
     "name": "stdin",
     "output_type": "stream",
     "text": [
      "Enter label (positive/negative/neutral):  neutral\n"
     ]
    },
    {
     "name": "stdout",
     "output_type": "stream",
     "text": [
      "\n",
      "\n",
      "Comment 78:\n",
      "So Chatgpt is not smart? 😢 it said I’m the smartest being in the universe though..\n"
     ]
    },
    {
     "name": "stdin",
     "output_type": "stream",
     "text": [
      "Enter label (positive/negative/neutral):  neutral\n"
     ]
    },
    {
     "name": "stdout",
     "output_type": "stream",
     "text": [
      "\n",
      "\n",
      "Comment 79:\n",
      "It&#39;s interesting to know that the parameters are never predefined/set by humans. Thanks for this easy-to-follow video 👍\n"
     ]
    },
    {
     "name": "stdin",
     "output_type": "stream",
     "text": [
      "Enter label (positive/negative/neutral):  positive\n"
     ]
    },
    {
     "name": "stdout",
     "output_type": "stream",
     "text": [
      "\n",
      "\n",
      "Comment 80:\n",
      "Forgive me as I’m very new to this, but if the output is text generated from predictions based on other text that’s already been created in the past (maybe I’m misunderstanding?), can it have original thoughts or progress on ideas? This feels kinda 1984 Newspeak to me.\n"
     ]
    },
    {
     "name": "stdin",
     "output_type": "stream",
     "text": [
      "Enter label (positive/negative/neutral):  neutral\n"
     ]
    },
    {
     "name": "stdout",
     "output_type": "stream",
     "text": [
      "\n",
      "\n",
      "Comment 81:\n",
      "LLM is smarter than most humans.  At least, in ways that humans aren&#39;t.\n"
     ]
    },
    {
     "name": "stdin",
     "output_type": "stream",
     "text": [
      "Enter label (positive/negative/neutral):  positive\n"
     ]
    },
    {
     "name": "stdout",
     "output_type": "stream",
     "text": [
      "\n",
      "\n",
      "Comment 82:\n",
      "Incredible videos. 1 person did this!!!\n"
     ]
    },
    {
     "name": "stdin",
     "output_type": "stream",
     "text": [
      "Enter label (positive/negative/neutral):  positive\n"
     ]
    },
    {
     "name": "stdout",
     "output_type": "stream",
     "text": [
      "\n",
      "\n",
      "Comment 83:\n",
      "it&#39;s so refreshing to see a video advertising itself as a &#39;brief explanation&#39; and that actually being true instead of a cheap joke about how long and bloated the video is\n"
     ]
    },
    {
     "name": "stdin",
     "output_type": "stream",
     "text": [
      "Enter label (positive/negative/neutral):  positive\n"
     ]
    },
    {
     "name": "stdout",
     "output_type": "stream",
     "text": [
      "\n",
      "\n",
      "Comment 84:\n",
      "Given how this works, I’m unsure why we call this “intelligence”, artificial pr otherwise. This is vast amounts of math-guided guessing. It in no way reflects how living organisms learn, ie we don’t maje small children read 2600 yrs worth of text in order to learn to read or speak.\n"
     ]
    },
    {
     "name": "stdin",
     "output_type": "stream",
     "text": [
      "Enter label (positive/negative/neutral):  neutral\n"
     ]
    },
    {
     "name": "stdout",
     "output_type": "stream",
     "text": [
      "\n",
      "\n",
      "Comment 85:\n",
      "igio\n"
     ]
    },
    {
     "name": "stdin",
     "output_type": "stream",
     "text": [
      "Enter label (positive/negative/neutral):  neutral\n"
     ]
    },
    {
     "name": "stdout",
     "output_type": "stream",
     "text": [
      "\n",
      "\n",
      "Comment 86:\n",
      "Thank you blue for helping to understanding LLM visually and in a concise manner.\n"
     ]
    },
    {
     "name": "stdin",
     "output_type": "stream",
     "text": [
      "Enter label (positive/negative/neutral):  positive\n"
     ]
    },
    {
     "name": "stdout",
     "output_type": "stream",
     "text": [
      "\n",
      "\n",
      "Comment 87:\n",
      "Favorite dessert -&gt; Puran poli\n"
     ]
    },
    {
     "name": "stdin",
     "output_type": "stream",
     "text": [
      "Enter label (positive/negative/neutral):  positive\n"
     ]
    },
    {
     "name": "stdout",
     "output_type": "stream",
     "text": [
      "\n",
      "\n",
      "Comment 88:\n",
      "Aisa ms excel and ai pe bhi cideo banao na please , very informative and cocise\n"
     ]
    },
    {
     "name": "stdin",
     "output_type": "stream",
     "text": [
      "Enter label (positive/negative/neutral):  positive\n"
     ]
    },
    {
     "name": "stdout",
     "output_type": "stream",
     "text": [
      "\n",
      "\n",
      "Comment 89:\n",
      "Bro how do watch this in english its giving me the dub Audio and no option to change\n"
     ]
    },
    {
     "name": "stdin",
     "output_type": "stream",
     "text": [
      "Enter label (positive/negative/neutral):  negative\n"
     ]
    },
    {
     "name": "stdout",
     "output_type": "stream",
     "text": [
      "\n",
      "\n",
      "Comment 90:\n",
      "Благодаря бинарным опционам я научился лучше понимать экономические новости и их влияние на рынки.\n"
     ]
    },
    {
     "name": "stdin",
     "output_type": "stream",
     "text": [
      "Enter label (positive/negative/neutral):  neutral\n"
     ]
    },
    {
     "name": "stdout",
     "output_type": "stream",
     "text": [
      "\n",
      "\n",
      "Comment 91:\n",
      "Super cool!\n"
     ]
    },
    {
     "name": "stdin",
     "output_type": "stream",
     "text": [
      "Enter label (positive/negative/neutral):  positive\n"
     ]
    },
    {
     "name": "stdout",
     "output_type": "stream",
     "text": [
      "\n",
      "\n",
      "Comment 92:\n",
      "Crazy Animation🫡\n"
     ]
    },
    {
     "name": "stdin",
     "output_type": "stream",
     "text": [
      "Enter label (positive/negative/neutral):  positive\n"
     ]
    },
    {
     "name": "stdout",
     "output_type": "stream",
     "text": [
      "\n",
      "\n",
      "Comment 93:\n",
      "ab<a href=\"https://www.youtube.com/watch?v=LPZh9BOjkQs&amp;t=310\">5:10</a>!!!\n"
     ]
    },
    {
     "name": "stdin",
     "output_type": "stream",
     "text": [
      "Enter label (positive/negative/neutral):  neutral\n"
     ]
    },
    {
     "name": "stdout",
     "output_type": "stream",
     "text": [
      "\n",
      "\n",
      "Comment 94:\n",
      "Understanding this explanation should be a new requirement to graduate high school—maybe even middle school. It’s that important.\n"
     ]
    },
    {
     "name": "stdin",
     "output_type": "stream",
     "text": [
      "Enter label (positive/negative/neutral):  positive\n"
     ]
    },
    {
     "name": "stdout",
     "output_type": "stream",
     "text": [
      "\n",
      "\n",
      "Comment 95:\n",
      "Are you related to Steve Sanderson of Microsoft?\n"
     ]
    },
    {
     "name": "stdin",
     "output_type": "stream",
     "text": [
      "Enter label (positive/negative/neutral):  neutral\n"
     ]
    },
    {
     "name": "stdout",
     "output_type": "stream",
     "text": [
      "\n",
      "\n",
      "Comment 96:\n",
      "The german dub is so nice, watched it twice just for that ❤\n"
     ]
    },
    {
     "name": "stdin",
     "output_type": "stream",
     "text": [
      "Enter label (positive/negative/neutral):  positive\n"
     ]
    },
    {
     "name": "stdout",
     "output_type": "stream",
     "text": [
      "\n",
      "\n",
      "Comment 97:\n",
      "I predict… great things for you! You’re an incredible educator. Great work!!\n"
     ]
    },
    {
     "name": "stdin",
     "output_type": "stream",
     "text": [
      "Enter label (positive/negative/neutral):  positive\n"
     ]
    },
    {
     "name": "stdout",
     "output_type": "stream",
     "text": [
      "\n",
      "\n",
      "Comment 98:\n",
      "Lovely video and beautiful Hindi dubbing!!! I was late to apply, (is it still open?) Either way, very very beautiful video. Thank youuu so much!\n"
     ]
    },
    {
     "name": "stdin",
     "output_type": "stream",
     "text": [
      "Enter label (positive/negative/neutral):  positive\n"
     ]
    },
    {
     "name": "stdout",
     "output_type": "stream",
     "text": [
      "\n",
      "\n",
      "Comment 99:\n",
      "Nice hindi dub❤\n"
     ]
    },
    {
     "name": "stdin",
     "output_type": "stream",
     "text": [
      "Enter label (positive/negative/neutral):  positive\n"
     ]
    },
    {
     "name": "stdout",
     "output_type": "stream",
     "text": [
      "\n",
      "\n",
      "Comment 100:\n",
      "🎉\n"
     ]
    },
    {
     "name": "stdin",
     "output_type": "stream",
     "text": [
      "Enter label (positive/negative/neutral):  positive\n"
     ]
    },
    {
     "name": "stdout",
     "output_type": "stream",
     "text": [
      "\n",
      "\n",
      "\n",
      "All comments have been labeled and saved to 'manual_labels.txt'.\n"
     ]
    }
   ],
   "source": [
    "import os\n",
    "\n",
    "# Load the comments from all_comments.txt\n",
    "with open('all_comments.txt', 'r', encoding='utf-8') as file:\n",
    "    all_comments = file.readlines()\n",
    "\n",
    "# Initialize an empty list to store manual labels\n",
    "manual_labels = []\n",
    "\n",
    "# Display comments one by one and allow the user to label them\n",
    "for i, comment in enumerate(all_comments):\n",
    "    print(f\"Comment {i+1}:\")\n",
    "    print(comment.strip())\n",
    "    \n",
    "    # Ask for manual label (positive, negative, or neutral)\n",
    "    label = input(\"Enter label (positive/negative/neutral): \").strip().lower()\n",
    "    \n",
    "    # Validate label input\n",
    "    while label not in ['positive', 'negative', 'neutral']:\n",
    "        print(\"Invalid label. Please enter 'positive', 'negative', or 'neutral'.\")\n",
    "        label = input(\"Enter label (positive/negative/neutral): \").strip().lower()\n",
    "    \n",
    "    manual_labels.append(label)\n",
    "\n",
    "    # Optionally, save the labels after each comment (for recovery purposes)\n",
    "    with open(\"manual_labels.txt\", \"a\", encoding=\"utf-8\") as file:\n",
    "        file.write(label + \"\\n\")\n",
    "\n",
    "    print(\"\\n\")\n",
    "\n",
    "# Optionally save all manual labels to a file\n",
    "with open('manual_labels.txt', 'w', encoding='utf-8') as file:\n",
    "    for label in manual_labels:\n",
    "        file.write(label + \"\\n\")\n",
    "\n",
    "print(f\"\\nAll comments have been labeled and saved to 'manual_labels.txt'.\")\n"
   ]
  },
  {
   "cell_type": "code",
   "execution_count": null,
   "id": "f66a5582-10fa-458f-94ea-3b56af703a9a",
   "metadata": {},
   "outputs": [],
   "source": []
  }
 ],
 "metadata": {
  "kernelspec": {
   "display_name": "Python 3 (ipykernel)",
   "language": "python",
   "name": "python3"
  },
  "language_info": {
   "codemirror_mode": {
    "name": "ipython",
    "version": 3
   },
   "file_extension": ".py",
   "mimetype": "text/x-python",
   "name": "python",
   "nbconvert_exporter": "python",
   "pygments_lexer": "ipython3",
   "version": "3.12.7"
  }
 },
 "nbformat": 4,
 "nbformat_minor": 5
}
